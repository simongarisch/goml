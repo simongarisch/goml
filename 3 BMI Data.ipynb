{
 "cells": [
  {
   "cell_type": "markdown",
   "metadata": {},
   "source": [
    "## 3 BMI Data"
   ]
  },
  {
   "cell_type": "code",
   "execution_count": null,
   "metadata": {},
   "outputs": [],
   "source": [
    "import \"fmt\"\n",
    "import \"io/ioutil\"\n",
    "\n",
    "\n",
    "const path = \"./datasets/words/processed_acl/kitchen\"\n",
    "\n",
    "b, err := ioutil.ReadFile(path)\n",
    "if err != nil {\n",
    "  fmt.Println(\"Error!\", err)\n",
    "}\n",
    "\n",
    "df := dataframe.ReadCSV(bytes.NewReader(b))\n"
   ]
  }
 ],
 "metadata": {
  "kernelspec": {
   "display_name": "Go",
   "language": "go",
   "name": "gophernotes"
  },
  "language_info": {
   "codemirror_mode": "",
   "file_extension": ".go",
   "mimetype": "",
   "name": "go",
   "nbconvert_exporter": "",
   "pygments_lexer": "",
   "version": "go1.11.4"
  }
 },
 "nbformat": 4,
 "nbformat_minor": 2
}
