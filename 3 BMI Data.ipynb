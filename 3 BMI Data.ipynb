{
 "cells": [
  {
   "cell_type": "markdown",
   "metadata": {},
   "source": [
    "## 3 BMI Data"
   ]
  },
  {
   "cell_type": "code",
   "execution_count": 1,
   "metadata": {},
   "outputs": [],
   "source": [
    "import (\n",
    "    \"fmt\"\n",
    "    \"github.com/kniren/gota/dataframe\"\n",
    "    \"github.com/kniren/gota/series\"\n",
    "    \"gonum.org/v1/plot\"\n",
    "    \"gonum.org/v1/plot/plotter\"\n",
    "    \"gonum.org/v1/plot/plotutil\"\n",
    "    \"gonum.org/v1/plot/vg\"\n",
    "    \"io/ioutil\"\n",
    "    \"bytes\"\n",
    "    \"image/color\"\n",
    "    \"bufio\"\n",
    ")"
   ]
  },
  {
   "cell_type": "code",
   "execution_count": 2,
   "metadata": {},
   "outputs": [
    {
     "data": {
      "text/plain": [
       "[500x4] DataFrame\n",
       "\n",
       "    Gender   Height Weight Index\n",
       " 0: Male     174    96     4    \n",
       " 1: Male     189    87     2    \n",
       " 2: Female   185    110    4    \n",
       " 3: Female   195    104    3    \n",
       " 4: Male     149    61     3    \n",
       " 5: Male     189    104    3    \n",
       " 6: Male     147    92     5    \n",
       " 7: Male     154    111    5    \n",
       " 8: Male     174    90     3    \n",
       " 9: Female   169    103    4    \n",
       "    ...      ...    ...    ...  \n",
       "    <string> <int>  <int>  <int>\n"
      ]
     },
     "execution_count": 2,
     "metadata": {},
     "output_type": "execute_result"
    }
   ],
   "source": [
    "import \"fmt\"\n",
    "import \"io/ioutil\"\n",
    "import \"bytes\"\n",
    "import \"github.com/kniren/gota/dataframe\"\n",
    "\n",
    "\n",
    "const path = \"./datasets/bmi.csv\"\n",
    "\n",
    "b, err := ioutil.ReadFile(path)\n",
    "if err != nil {\n",
    "  fmt.Println(\"Error!\", err)\n",
    "}\n",
    "\n",
    "df := dataframe.ReadCSV(bytes.NewReader(b))\n",
    "df"
   ]
  },
  {
   "cell_type": "code",
   "execution_count": 3,
   "metadata": {},
   "outputs": [
    {
     "name": "stdout",
     "output_type": "stream",
     "text": [
      "Minimum 140\n",
      "Maximum 199\n",
      "Mean 169.944\n",
      "Median 170\n"
     ]
    },
    {
     "data": {
      "text/plain": [
       "11 <nil>"
      ]
     },
     "execution_count": 3,
     "metadata": {},
     "output_type": "execute_result"
    }
   ],
   "source": [
    "fmt.Println(\"Minimum\", df.Col(\"Height\").Min())\n",
    "fmt.Println(\"Maximum\", df.Col(\"Height\").Max())\n",
    "fmt.Println(\"Mean\", df.Col(\"Height\").Mean())\n",
    "fmt.Println(\"Median\", df.Col(\"Height\").Quantile(0.5))\n"
   ]
  },
  {
   "cell_type": "code",
   "execution_count": 4,
   "metadata": {},
   "outputs": [
    {
     "data": {
      "text/plain": [
       "[7x5] DataFrame\n",
       "\n",
       "    column   Gender   Height     Weight     Index   \n",
       " 0: mean     -        169.944000 106.000000 3.748000\n",
       " 1: stddev   -        16.375261  32.382607  1.355053\n",
       " 2: min      Female   140.000000 50.000000  0.000000\n",
       " 3: 25%      -        156.000000 80.000000  3.000000\n",
       " 4: 50%      -        170.000000 106.000000 4.000000\n",
       " 5: 75%      -        184.000000 136.000000 5.000000\n",
       " 6: max      Male     199.000000 160.000000 5.000000\n",
       "    <string> <string> <float>    <float>    <float> \n"
      ]
     },
     "execution_count": 4,
     "metadata": {},
     "output_type": "execute_result"
    }
   ],
   "source": [
    "df.Describe()"
   ]
  },
  {
   "cell_type": "code",
   "execution_count": 5,
   "metadata": {},
   "outputs": [],
   "source": [
    "import \"gonum.org/v1/plot/plotter\"\n",
    "\n",
    "// SeriesToPlotValues takes a column of a Dataframe and converts it to a gonum/plot/plotter.Values slice.\n",
    "// Panics if the column does not exist.\n",
    "func SeriesToPlotValues(df dataframe.DataFrame, col string) plotter.Values {\n",
    "  rows, _ := df.Dims()\n",
    "  v := make(plotter.Values, rows)\n",
    "  s := df.Col(col)\n",
    "  for i := 0; i < rows; i++ {\n",
    "    v[i] = s.Elem(i).Float()\n",
    "  }\n",
    "  return v\n",
    "}\n"
   ]
  },
  {
   "cell_type": "code",
   "execution_count": 6,
   "metadata": {},
   "outputs": [
    {
     "name": "stdout",
     "output_type": "stream",
     "text": [
      "plotter.Values\n"
     ]
    },
    {
     "data": {
      "text/plain": [
       "15 <nil>"
      ]
     },
     "execution_count": 6,
     "metadata": {},
     "output_type": "execute_result"
    }
   ],
   "source": [
    "import \"reflect\"\n",
    "\n",
    "values := SeriesToPlotValues(df, \"Height\")\n",
    "fmt.Println(reflect.TypeOf(values))"
   ]
  },
  {
   "cell_type": "code",
   "execution_count": 7,
   "metadata": {},
   "outputs": [],
   "source": [
    "import \"bufio\"\n",
    "import \"gonum.org/v1/plot\"\n",
    "import \"gonum.org/v1/plot/vg\"\n",
    "\n",
    "\n",
    "// HistogramData returns a byte slice of JPEG data for a histogram of the column with name col in the dataframe df.\n",
    "func HistogramData(v plotter.Values, title string) []byte {\n",
    "  // Make a plot and set its title.\n",
    "  p, err := plot.New()\n",
    "  if err != nil {\n",
    "    panic(err)\n",
    "  }\n",
    "  p.Title.Text = title\n",
    "  h, err := plotter.NewHist(v, 10)\n",
    "  if err != nil {\n",
    "    panic(err)\n",
    "  }\n",
    "  //h.Normalize(1) // Uncomment to normalize the area under the histogram to 1\n",
    "  p.Add(h)\n",
    "  w, err := p.WriterTo(5*vg.Inch, 4*vg.Inch, \"jpg\")\n",
    "  if err != nil {\n",
    "    panic(err)\n",
    "  }\n",
    "  var b bytes.Buffer\n",
    "  writer := bufio.NewWriter(&b)\n",
    "  w.WriteTo(writer)\n",
    "  return b.Bytes()\n",
    "}\n"
   ]
  },
  {
   "cell_type": "code",
   "execution_count": 10,
   "metadata": {},
   "outputs": [
    {
     "name": "stdout",
     "output_type": "stream",
     "text": [
      "[]uint8\n"
     ]
    },
    {
     "data": {
      "text/plain": [
       "8 <nil>"
      ]
     },
     "execution_count": 10,
     "metadata": {},
     "output_type": "execute_result"
    }
   ],
   "source": [
    "histData := HistogramData(SeriesToPlotValues(df, \"Height\"), \"Height Histogram\")\n",
    "fmt.Println(reflect.TypeOf(b))"
   ]
  },
  {
   "cell_type": "code",
   "execution_count": 11,
   "metadata": {},
   "outputs": [
    {
     "data": {
      "image/jpeg": "[encoded data removed]",
      "text/plain": [
       "image/jpeg"
      ]
     },
     "execution_count": 11,
     "metadata": {},
     "output_type": "execute_result"
    }
   ],
   "source": [
    "display.JPEG(histData)"
   ]
  },
  {
   "cell_type": "markdown",
   "metadata": {},
   "source": [
    "## In Summary"
   ]
  },
  {
   "cell_type": "code",
   "execution_count": 12,
   "metadata": {},
   "outputs": [
    {
     "data": {
      "text/plain": [
       "[500x4] DataFrame\n",
       "\n",
       "    Gender   Height Weight Index\n",
       " 0: Male     174    96     4    \n",
       " 1: Male     189    87     2    \n",
       " 2: Female   185    110    4    \n",
       " 3: Female   195    104    3    \n",
       " 4: Male     149    61     3    \n",
       " 5: Male     189    104    3    \n",
       " 6: Male     147    92     5    \n",
       " 7: Male     154    111    5    \n",
       " 8: Male     174    90     3    \n",
       " 9: Female   169    103    4    \n",
       "    ...      ...    ...    ...  \n",
       "    <string> <int>  <int>  <int>\n"
      ]
     },
     "execution_count": 12,
     "metadata": {},
     "output_type": "execute_result"
    }
   ],
   "source": [
    "df"
   ]
  },
  {
   "cell_type": "code",
   "execution_count": 17,
   "metadata": {},
   "outputs": [
    {
     "data": {
      "image/jpeg": "[encoded data removed]",
      "text/plain": [
       "image/jpeg"
      ]
     },
     "execution_count": 17,
     "metadata": {},
     "output_type": "execute_result"
    }
   ],
   "source": [
    "display.JPEG(HistogramData(SeriesToPlotValues(df, \"Height\"), \"Height Histogram\"))"
   ]
  },
  {
   "cell_type": "code",
   "execution_count": 18,
   "metadata": {},
   "outputs": [
    {
     "data": {
      "image/jpeg": "[encoded data removed]",
      "text/plain": [
       "image/jpeg"
      ]
     },
     "execution_count": 18,
     "metadata": {},
     "output_type": "execute_result"
    }
   ],
   "source": [
    "display.JPEG(HistogramData(SeriesToPlotValues(df, \"Weight\"), \"Weight Histogram\"))"
   ]
  },
  {
   "cell_type": "code",
   "execution_count": 19,
   "metadata": {},
   "outputs": [
    {
     "data": {
      "image/jpeg": "[encoded data removed]",
      "text/plain": [
       "image/jpeg"
      ]
     },
     "execution_count": 19,
     "metadata": {},
     "output_type": "execute_result"
    }
   ],
   "source": [
    "display.JPEG(HistogramData(SeriesToPlotValues(df, \"Index\"), \"Index Histogram\"))"
   ]
  },
  {
   "cell_type": "markdown",
   "metadata": {},
   "source": [
    "***"
   ]
  }
 ],
 "metadata": {
  "kernelspec": {
   "display_name": "Go",
   "language": "go",
   "name": "gophernotes"
  },
  "language_info": {
   "codemirror_mode": "",
   "file_extension": ".go",
   "mimetype": "",
   "name": "go",
   "nbconvert_exporter": "",
   "pygments_lexer": "",
   "version": "go1.11.4"
  }
 },
 "nbformat": 4,
 "nbformat_minor": 2
}
