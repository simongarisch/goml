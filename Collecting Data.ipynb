{
 "cells": [
  {
   "cell_type": "markdown",
   "metadata": {},
   "source": [
    "## Collecting Data"
   ]
  },
  {
   "cell_type": "code",
   "execution_count": 1,
   "metadata": {},
   "outputs": [
    {
     "data": {
      "text/plain": [
       "['.git',\n",
       " '.ipynb_checkpoints',\n",
       " 'Collecting Data.ipynb',\n",
       " 'Hello.ipynb',\n",
       " 'README.md',\n",
       " 'collect_words_dataset.sh',\n",
       " 'datasets',\n",
       " 'launch_notes.bat']"
      ]
     },
     "execution_count": 1,
     "metadata": {},
     "output_type": "execute_result"
    }
   ],
   "source": [
    "import os\n",
    "\n",
    "os.listdir()"
   ]
  },
  {
   "cell_type": "code",
   "execution_count": 2,
   "metadata": {},
   "outputs": [
    {
     "name": "stdout",
     "output_type": "stream",
     "text": [
      "mkdir -p datasets/words && \\\n",
      "wget http://www.cs.jhu.edu/~mdredze/datasets/sentiment/processed_acl.tar.gz -O datasets/words-temp.tar.gz && \\\n",
      "tar xzvf datasets/words-temp.tar.gz -C datasets/words && \\\n",
      "rm datasets/words-temp.tar.gz\n",
      "\n"
     ]
    }
   ],
   "source": [
    "with open(\"collect_words_dataset.sh\", \"r\") as f:\n",
    "    print(f.read())\n"
   ]
  },
  {
   "cell_type": "code",
   "execution_count": 1,
   "metadata": {},
   "outputs": [],
   "source": [
    "import \"fmt\"\n",
    "import \"io/ioutil\"\n",
    "\n",
    "const kitchenReviews = \"./datasets/words/processed_acl/kitchen\"\n",
    "\n",
    "positives, err := ioutil.ReadFile(kitchenReviews + \"/positive.review\")\n",
    "negatives, err2 := ioutil.ReadFile(kitchenReviews + \"/negative.review\")\n",
    "\n",
    "if err != nil || err2 != nil {\n",
    " fmt.Println(\"Error(s)\", err, err2)\n",
    "}\n"
   ]
  },
  {
   "cell_type": "code",
   "execution_count": 2,
   "metadata": {},
   "outputs": [
    {
     "name": "stdout",
     "output_type": "stream",
     "text": [
      "[]uint8\n"
     ]
    },
    {
     "data": {
      "text/plain": [
       "8 <nil>"
      ]
     },
     "execution_count": 2,
     "metadata": {},
     "output_type": "execute_result"
    }
   ],
   "source": [
    "import \"reflect\"\n",
    "\n",
    "fmt.Println(reflect.TypeOf(positives))"
   ]
  },
  {
   "cell_type": "code",
   "execution_count": 6,
   "metadata": {},
   "outputs": [
    {
     "name": "stdout",
     "output_type": "stream",
     "text": [
      "them_it:1 hovering:1 and_occasional:1 cousin_the:2 fictional_baudelaire:1 their_struggles:1 unfortun\n"
     ]
    },
    {
     "data": {
      "text/plain": [
       "101 <nil>"
      ]
     },
     "execution_count": 6,
     "metadata": {},
     "output_type": "execute_result"
    }
   ],
   "source": [
    "fmt.Println(string(positives)[:100])"
   ]
  },
  {
   "cell_type": "code",
   "execution_count": 7,
   "metadata": {},
   "outputs": [],
   "source": [
    "type Pair struct {\n",
    "  Phrase string\n",
    "  Frequency int\n",
    "}"
   ]
  },
  {
   "cell_type": "code",
   "execution_count": 11,
   "metadata": {},
   "outputs": [
    {
     "name": "stdout",
     "output_type": "stream",
     "text": [
      "[]string\n"
     ]
    },
    {
     "data": {
      "text/plain": [
       "9 <nil>"
      ]
     },
     "execution_count": 11,
     "metadata": {},
     "output_type": "execute_result"
    }
   ],
   "source": [
    "import \"strings\"\n",
    "\n",
    "pairsPositive := strings.Fields(string(positives))\n",
    "pairsNegative := strings.Fields(string(negatives))\n",
    "\n",
    "fmt.Println(reflect.TypeOf(pairsPositive))"
   ]
  },
  {
   "cell_type": "code",
   "execution_count": 13,
   "metadata": {},
   "outputs": [
    {
     "name": "stdout",
     "output_type": "stream",
     "text": [
      "[them_it:1 hovering:1 and_occasional:1 cousin_the:2]\n"
     ]
    },
    {
     "data": {
      "text/plain": [
       "53 <nil>"
      ]
     },
     "execution_count": 13,
     "metadata": {},
     "output_type": "execute_result"
    }
   ],
   "source": [
    "fmt.Println(pairsPositive[:4])"
   ]
  },
  {
   "cell_type": "code",
   "execution_count": 14,
   "metadata": {},
   "outputs": [
    {
     "data": {
      "text/plain": [
       "them_it:1"
      ]
     },
     "execution_count": 14,
     "metadata": {},
     "output_type": "execute_result"
    }
   ],
   "source": [
    "pairsPositive[0]"
   ]
  },
  {
   "cell_type": "code",
   "execution_count": 15,
   "metadata": {},
   "outputs": [
    {
     "data": {
      "text/plain": [
       "hovering:1"
      ]
     },
     "execution_count": 15,
     "metadata": {},
     "output_type": "execute_result"
    }
   ],
   "source": [
    "pairsPositive[1]"
   ]
  },
  {
   "cell_type": "code",
   "execution_count": 17,
   "metadata": {},
   "outputs": [],
   "source": [
    "import \"strconv\"\n",
    "\n",
    "// pairsAndFilters returns a slice of Pair, split by : to obtain the phrase and frequency,\n",
    "// as well as a map of the phrases that can be used as a lookup table later.\n",
    "func pairsAndFilters(splitPairs []string) ([]Pair, map[string]bool) {\n",
    "  var (\n",
    "    pairs []Pair\n",
    "    m map[string]bool\n",
    "  )\n",
    "  m = make(map[string]bool)\n",
    "  for _, pair := range splitPairs {\n",
    "    p := strings.Split(pair, \":\")\n",
    "    phrase := p[0]\n",
    "    m[phrase] = true\n",
    "    if len(p) < 2 {\n",
    "      continue\n",
    "    }\n",
    "    freq, err := strconv.Atoi(p[1])\n",
    "    if err != nil {\n",
    "      continue\n",
    "    }\n",
    "    pairs = append(pairs, Pair{\n",
    "      Phrase: phrase,\n",
    "      Frequency: freq,\n",
    "    })\n",
    "  }\n",
    "  return pairs, m\n",
    "}\n"
   ]
  },
  {
   "cell_type": "code",
   "execution_count": 18,
   "metadata": {},
   "outputs": [],
   "source": [
    "// exclude returns a slice of Pair that does not contain the phrases in the exclusion map\n",
    "func exclude(pairs []Pair, exclusions map[string]bool) []Pair {\n",
    "  var ret []Pair\n",
    "  for i := range pairs {\n",
    "    if !exclusions[pairs[i].Phrase] {\n",
    "      ret = append(ret, pairs[i])\n",
    "    }\n",
    "  }\n",
    "  return ret\n",
    "}\n"
   ]
  },
  {
   "cell_type": "code",
   "execution_count": 19,
   "metadata": {},
   "outputs": [],
   "source": [
    "parsedPositives, posPhrases := pairsAndFilters(pairsPositive)\n",
    "parsedNegatives, negPhrases := pairsAndFilters(pairsNegative)\n",
    "parsedPositives = exclude(parsedPositives, negPhrases)\n",
    "parsedNegatives = exclude(parsedNegatives, posPhrases)\n"
   ]
  },
  {
   "cell_type": "code",
   "execution_count": 22,
   "metadata": {},
   "outputs": [
    {
     "data": {
      "text/plain": [
       "[]struct { Phrase string; Frequency int }"
      ]
     },
     "execution_count": 22,
     "metadata": {},
     "output_type": "execute_result"
    }
   ],
   "source": [
    "reflect.TypeOf(parsedPositives)"
   ]
  },
  {
   "cell_type": "code",
   "execution_count": 23,
   "metadata": {},
   "outputs": [
    {
     "data": {
      "text/plain": [
       "[]struct { Phrase string; Frequency int }"
      ]
     },
     "execution_count": 23,
     "metadata": {},
     "output_type": "execute_result"
    }
   ],
   "source": [
    "reflect.TypeOf(parsedNegatives)"
   ]
  },
  {
   "cell_type": "markdown",
   "metadata": {},
   "source": [
    "## Using [gota](https://godoc.org/github.com/kniren/gota/dataframe)"
   ]
  },
  {
   "cell_type": "code",
   "execution_count": 30,
   "metadata": {},
   "outputs": [],
   "source": [
    "import \"github.com/kniren/gota/dataframe\"\n",
    "\n",
    "dfPos := dataframe.LoadStructs(parsedPositives)\n",
    "dfNeg := dataframe.LoadStructs(parsedNegatives)"
   ]
  },
  {
   "cell_type": "code",
   "execution_count": 31,
   "metadata": {},
   "outputs": [],
   "source": [
    "dfPos = dfPos.Arrange(dataframe.RevSort(\"Frequency\"))\n",
    "dfNeg = dfNeg.Arrange(dataframe.RevSort(\"Frequency\"))"
   ]
  },
  {
   "cell_type": "code",
   "execution_count": 32,
   "metadata": {},
   "outputs": [
    {
     "data": {
      "text/plain": [
       "[46383x2] DataFrame\n",
       "\n",
       "    Phrase       Frequency\n",
       " 0: tic-tac-toe  10       \n",
       " 1: wusthoff     7        \n",
       " 2: emperor      7        \n",
       " 3: shot_glasses 6        \n",
       " 4: pulp         6        \n",
       " 5: games        6        \n",
       " 6: sentry       6        \n",
       " 7: gravel       6        \n",
       " 8: the_emperor  5        \n",
       " 9: aebleskivers 5        \n",
       "    ...          ...      \n",
       "    <string>     <int>    \n"
      ]
     },
     "execution_count": 32,
     "metadata": {},
     "output_type": "execute_result"
    }
   ],
   "source": [
    "dfPos"
   ]
  },
  {
   "cell_type": "code",
   "execution_count": 33,
   "metadata": {},
   "outputs": [
    {
     "data": {
      "text/plain": [
       "[45760x2] DataFrame\n",
       "\n",
       "    Phrase          Frequency\n",
       " 0: seeds           9        \n",
       " 1: perculator      7        \n",
       " 2: probes          7        \n",
       " 3: cork            7        \n",
       " 4: coffee_tank     5        \n",
       " 5: brookstone      5        \n",
       " 6: convection_oven 5        \n",
       " 7: black_goo       5        \n",
       " 8: waring_pro      5        \n",
       " 9: packs           5        \n",
       "    ...             ...      \n",
       "    <string>        <int>    \n"
      ]
     },
     "execution_count": 33,
     "metadata": {},
     "output_type": "execute_result"
    }
   ],
   "source": [
    "dfNeg"
   ]
  },
  {
   "cell_type": "markdown",
   "metadata": {},
   "source": [
    "## General gota overview"
   ]
  },
  {
   "cell_type": "code",
   "execution_count": 3,
   "metadata": {},
   "outputs": [],
   "source": [
    "import \"github.com/kniren/gota/dataframe\"\n",
    "import \"github.com/kniren/gota/series\""
   ]
  },
  {
   "cell_type": "code",
   "execution_count": 4,
   "metadata": {},
   "outputs": [
    {
     "data": {
      "text/plain": [
       "{dataframe \"github.com/kniren/gota/dataframe\", 17 binds, 7 types}"
      ]
     },
     "execution_count": 4,
     "metadata": {},
     "output_type": "execute_result"
    }
   ],
   "source": [
    "dataframe"
   ]
  },
  {
   "cell_type": "code",
   "execution_count": 5,
   "metadata": {},
   "outputs": [
    {
     "data": {
      "text/plain": [
       "{series \"github.com/kniren/gota/series\", 16 binds, 7 types}"
      ]
     },
     "execution_count": 5,
     "metadata": {},
     "output_type": "execute_result"
    }
   ],
   "source": [
    "series"
   ]
  },
  {
   "cell_type": "code",
   "execution_count": 7,
   "metadata": {},
   "outputs": [
    {
     "name": "stdout",
     "output_type": "stream",
     "text": [
      "*fast.Import\n"
     ]
    },
    {
     "data": {
      "text/plain": [
       "13 <nil>"
      ]
     },
     "execution_count": 7,
     "metadata": {},
     "output_type": "execute_result"
    }
   ],
   "source": [
    "import \"fmt\"\n",
    "import \"reflect\"\n",
    "\n",
    "fmt.Println(reflect.TypeOf(dataframe))"
   ]
  },
  {
   "cell_type": "code",
   "execution_count": 8,
   "metadata": {},
   "outputs": [
    {
     "name": "stdout",
     "output_type": "stream",
     "text": [
      "*fast.Import\n"
     ]
    },
    {
     "data": {
      "text/plain": [
       "13 <nil>"
      ]
     },
     "execution_count": 8,
     "metadata": {},
     "output_type": "execute_result"
    }
   ],
   "source": [
    "fmt.Println(reflect.TypeOf(series))"
   ]
  },
  {
   "cell_type": "code",
   "execution_count": 10,
   "metadata": {},
   "outputs": [],
   "source": [
    "df := dataframe.LoadRecords(\n",
    "    [][]string{\n",
    "        []string{\"A\", \"B\", \"C\", \"D\"},\n",
    "        []string{\"a\", \"4\", \"5.1\", \"true\"},\n",
    "        []string{\"k\", \"5\", \"7.0\", \"true\"},\n",
    "        []string{\"k\", \"4\", \"6.0\", \"true\"},\n",
    "        []string{\"a\", \"2\", \"7.1\", \"false\"},\n",
    "    },\n",
    ")"
   ]
  },
  {
   "cell_type": "code",
   "execution_count": 11,
   "metadata": {},
   "outputs": [
    {
     "data": {
      "text/plain": [
       "[4x4] DataFrame\n",
       "\n",
       "    A        B     C        D     \n",
       " 0: a        4     5.100000 true  \n",
       " 1: k        5     7.000000 true  \n",
       " 2: k        4     6.000000 true  \n",
       " 3: a        2     7.100000 false \n",
       "    <string> <int> <float>  <bool>\n"
      ]
     },
     "execution_count": 11,
     "metadata": {},
     "output_type": "execute_result"
    }
   ],
   "source": [
    "df"
   ]
  },
  {
   "cell_type": "code",
   "execution_count": 12,
   "metadata": {},
   "outputs": [],
   "source": [
    "type User struct {\n",
    "    Name     string\n",
    "    Age      int\n",
    "    Accuracy float64\n",
    "    ignored  bool  // ignored since unexported\n",
    "}\n",
    "\n",
    "users := []User{\n",
    "    {\"Aram\", 17, 0.2, true},\n",
    "    {\"Juan\", 18, 0.8, true},\n",
    "    {\"Ana\", 22, 0.5, true},\n",
    "}\n",
    "\n",
    "df := dataframe.LoadStructs(users)"
   ]
  },
  {
   "cell_type": "code",
   "execution_count": 13,
   "metadata": {},
   "outputs": [
    {
     "data": {
      "text/plain": [
       "[3x4] DataFrame\n",
       "\n",
       "    Name     Age   Accuracy 𒀸ignored\n",
       " 0: Aram     17    0.200000 true    \n",
       " 1: Juan     18    0.800000 true    \n",
       " 2: Ana      22    0.500000 true    \n",
       "    <string> <int> <float>  <bool>  \n"
      ]
     },
     "execution_count": 13,
     "metadata": {},
     "output_type": "execute_result"
    }
   ],
   "source": [
    "df"
   ]
  },
  {
   "cell_type": "markdown",
   "metadata": {},
   "source": [
    "***"
   ]
  }
 ],
 "metadata": {
  "kernelspec": {
   "display_name": "Go",
   "language": "go",
   "name": "gophernotes"
  },
  "language_info": {
   "codemirror_mode": "",
   "file_extension": ".go",
   "mimetype": "",
   "name": "go",
   "nbconvert_exporter": "",
   "pygments_lexer": "",
   "version": "go1.11.4"
  }
 },
 "nbformat": 4,
 "nbformat_minor": 2
}
