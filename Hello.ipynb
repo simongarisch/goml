{
 "cells": [
  {
   "cell_type": "markdown",
   "metadata": {},
   "source": [
    "## Hello"
   ]
  },
  {
   "cell_type": "code",
   "execution_count": 1,
   "metadata": {},
   "outputs": [
    {
     "name": "stdout",
     "output_type": "stream",
     "text": [
      "hello from gophernotes\n"
     ]
    },
    {
     "data": {
      "text/plain": [
       "23 <nil>"
      ]
     },
     "execution_count": 1,
     "metadata": {},
     "output_type": "execute_result"
    }
   ],
   "source": [
    "import \"fmt\"\n",
    "\n",
    "fmt.Println(\"hello from gophernotes\")"
   ]
  },
  {
   "cell_type": "markdown",
   "metadata": {},
   "source": [
    "## Open data sources\n",
    "Awesome datasets: https://github.com/awesomedata/awesome-public-datasets\n",
    "\n",
    "Skymind open datasets: https://skymind.ai/wiki/open-datasets\n",
    "\n",
    "OpenML: https://www.openml.org/\n",
    "\n",
    "Kaggle: https://www.kaggle.com/datasets\n",
    "\n",
    "UK Governments open data: https://data.gov.uk/\n",
    "\n",
    "US Governments open data: https://www.data.gov/"
   ]
  },
  {
   "cell_type": "markdown",
   "metadata": {},
   "source": [
    "***"
   ]
  }
 ],
 "metadata": {
  "kernelspec": {
   "display_name": "Go",
   "language": "go",
   "name": "gophernotes"
  },
  "language_info": {
   "codemirror_mode": "",
   "file_extension": ".go",
   "mimetype": "",
   "name": "go",
   "nbconvert_exporter": "",
   "pygments_lexer": "",
   "version": "go1.11.4"
  }
 },
 "nbformat": 4,
 "nbformat_minor": 2
}
